{
 "cells": [
  {
   "cell_type": "markdown",
   "metadata": {},
   "source": [
    "# Testing the Globus API"
   ]
  },
  {
   "cell_type": "markdown",
   "metadata": {},
   "source": [
    "## Define variables"
   ]
  },
  {
   "cell_type": "code",
   "execution_count": 1,
   "metadata": {
    "collapsed": true
   },
   "outputs": [],
   "source": [
    "CLIENT_ID = 'e8954f4a-23c6-4ffc-8eaa-747fda1f9351'\n",
    "blueTeamEndpointID = 'eed5aba8-6bc9-11e7-a9c6-22000bf2d287'\n",
    "redTeamEndpointID = '3435b504-6bc4-11e7-a9c6-22000bf2d287'\n",
    "rootTransferFolderName = \"Red_Team_Stuff\"\n",
    "transferFile = 'Transparent Aluminum.zip'\n",
    "token_path = \"./.tokens.json\""
   ]
  },
  {
   "cell_type": "markdown",
   "metadata": {},
   "source": [
    "## Import Globus,  connect to app and start TransferClient"
   ]
  },
  {
   "cell_type": "code",
   "execution_count": 2,
   "metadata": {},
   "outputs": [
    {
     "name": "stdout",
     "output_type": "stream",
     "text": [
      "Please go to this URL and login: https://auth.globus.org/v2/oauth2/authorize?client_id=e8954f4a-23c6-4ffc-8eaa-747fda1f9351&redirect_uri=https%3A%2F%2Fauth.globus.org%2Fv2%2Fweb%2Fauth-code&scope=openid+profile+email+urn%3Aglobus%3Aauth%3Ascope%3Atransfer.api.globus.org%3Aall&state=_default&response_type=code&code_challenge=3XKfTOmjpEVptOcB8DcMEsGh2uUZEs2i3Bk73wZqq6U&code_challenge_method=S256&access_type=offline\n",
      "Please enter the code here: JqU2uudW9f6oU4DToiWr9Wmz1Q9fSa\n"
     ]
    }
   ],
   "source": [
    "import os\n",
    "import json\n",
    "import globus_sdk\n",
    "\n",
    "client = globus_sdk.NativeAppAuthClient(CLIENT_ID)\n",
    "\n",
    "if os.path.exists(token_path):\n",
    "    with open(token_path) as tok_file:\n",
    "        tokens = json.load(tok_file)\n",
    "else:\n",
    "    client.oauth2_start_flow(refresh_tokens=True)\n",
    "\n",
    "    print('Please go to this URL and login: {0}'\n",
    "          .format(client.oauth2_get_authorize_url()))\n",
    "\n",
    "    get_input = getattr(__builtins__, 'raw_input', input)\n",
    "    auth_code = get_input('Please enter the code here: ').strip()\n",
    "    token_response = client.oauth2_exchange_code_for_tokens(auth_code)\n",
    "\n",
    "    # let's get stuff for the Globus Transfer service\n",
    "    globus_transfer_data = token_response.by_resource_server['transfer.api.globus.org']\n",
    "    # the refresh token and access token, often abbr. as RT and AT\n",
    "#    transfer_rt = globus_transfer_data['refresh_token']\n",
    "#    transfer_at = globus_transfer_data['access_token']\n",
    "#    expires_at_s = globus_transfer_data['expires_at_seconds']\n",
    "    \n",
    "    with open(token_path, \"w\") as tok_file:\n",
    "        json.dump(globus_transfer_data, tok_file)\n",
    "    tokens = globus_transfer_data\n",
    "\n",
    "authorizer = globus_sdk.RefreshTokenAuthorizer(\n",
    "    tokens[\"refresh_token\"], client, access_token=tokens[\"access_token\"], expires_at=tokens[\"expires_at_seconds\"])\n",
    "\n",
    "# and try using `tc` to make TransferClient calls.\n",
    "tc = globus_sdk.TransferClient(authorizer=authorizer)"
   ]
  },
  {
   "cell_type": "markdown",
   "metadata": {},
   "source": [
    "## Get a response from the endpoint"
   ]
  },
  {
   "cell_type": "code",
   "execution_count": 4,
   "metadata": {},
   "outputs": [
    {
     "name": "stdout",
     "output_type": "stream",
     "text": [
      "Endpoint name: u_cdtg35asyreyhnmqmhbzl5jab4#mdi_summit_blue_team\n"
     ]
    }
   ],
   "source": [
    "endpoint = tc.get_endpoint(blueTeamEndpointID)\n",
    "print(\"Endpoint name: {}\".format(endpoint[\"canonical_name\"]))"
   ]
  },
  {
   "cell_type": "markdown",
   "metadata": {},
   "source": [
    "## List dirs and files in the Blue Team endpoint"
   ]
  },
  {
   "cell_type": "code",
   "execution_count": 6,
   "metadata": {},
   "outputs": [
    {
     "ename": "TransferAPIError",
     "evalue": "(400, 'ClientError.ActivationRequired', \"The endpoint 'eed5aba8-6bc9-11e7-a9c6-22000bf2d287' is not activated\", '1Iw42oXtm')",
     "output_type": "error",
     "traceback": [
      "\u001b[0;31m---------------------------------------------------------------------------\u001b[0m",
      "\u001b[0;31mTransferAPIError\u001b[0m                          Traceback (most recent call last)",
      "\u001b[0;32m<ipython-input-6-a80374ecc6a0>\u001b[0m in \u001b[0;36m<module>\u001b[0;34m()\u001b[0m\n\u001b[1;32m      1\u001b[0m \u001b[0mblueTeamDirs\u001b[0m \u001b[0;34m=\u001b[0m \u001b[0;34m[\u001b[0m\u001b[0;34m]\u001b[0m\u001b[0;34m\u001b[0m\u001b[0m\n\u001b[0;32m----> 2\u001b[0;31m \u001b[0;32mfor\u001b[0m \u001b[0mresponse\u001b[0m \u001b[0;32min\u001b[0m \u001b[0mtc\u001b[0m\u001b[0;34m.\u001b[0m\u001b[0moperation_ls\u001b[0m\u001b[0;34m(\u001b[0m\u001b[0mblueTeamEndpointID\u001b[0m\u001b[0;34m)\u001b[0m\u001b[0;34m:\u001b[0m\u001b[0;34m\u001b[0m\u001b[0m\n\u001b[0m\u001b[1;32m      3\u001b[0m     \u001b[0mprint\u001b[0m\u001b[0;34m(\u001b[0m\u001b[0;34m'Name: {}, type: {}'\u001b[0m\u001b[0;34m.\u001b[0m\u001b[0mformat\u001b[0m\u001b[0;34m(\u001b[0m\u001b[0mresponse\u001b[0m\u001b[0;34m[\u001b[0m\u001b[0;34m'name'\u001b[0m\u001b[0;34m]\u001b[0m\u001b[0;34m,\u001b[0m \u001b[0mresponse\u001b[0m\u001b[0;34m[\u001b[0m\u001b[0;34m'type'\u001b[0m\u001b[0;34m]\u001b[0m\u001b[0;34m)\u001b[0m\u001b[0;34m)\u001b[0m\u001b[0;34m\u001b[0m\u001b[0m\n\u001b[1;32m      4\u001b[0m     \u001b[0;32mif\u001b[0m \u001b[0mresponse\u001b[0m\u001b[0;34m[\u001b[0m\u001b[0;34m'type'\u001b[0m\u001b[0;34m]\u001b[0m \u001b[0;34m==\u001b[0m \u001b[0;34m'dir'\u001b[0m\u001b[0;34m:\u001b[0m\u001b[0;34m\u001b[0m\u001b[0m\n\u001b[1;32m      5\u001b[0m         \u001b[0mblueTeamDirs\u001b[0m\u001b[0;34m.\u001b[0m\u001b[0mappend\u001b[0m\u001b[0;34m(\u001b[0m\u001b[0mresponse\u001b[0m\u001b[0;34m)\u001b[0m\u001b[0;34m\u001b[0m\u001b[0m\n",
      "\u001b[0;32m/anaconda/lib/python3.6/site-packages/globus_sdk/transfer/client.py\u001b[0m in \u001b[0;36moperation_ls\u001b[0;34m(self, endpoint_id, **params)\u001b[0m\n\u001b[1;32m    918\u001b[0m         \u001b[0mpath\u001b[0m \u001b[0;34m=\u001b[0m \u001b[0mself\u001b[0m\u001b[0;34m.\u001b[0m\u001b[0mqjoin_path\u001b[0m\u001b[0;34m(\u001b[0m\u001b[0;34m\"operation/endpoint\"\u001b[0m\u001b[0;34m,\u001b[0m \u001b[0mendpoint_id\u001b[0m\u001b[0;34m,\u001b[0m \u001b[0;34m\"ls\"\u001b[0m\u001b[0;34m)\u001b[0m\u001b[0;34m\u001b[0m\u001b[0m\n\u001b[1;32m    919\u001b[0m         return self.get(path, params=params,\n\u001b[0;32m--> 920\u001b[0;31m                         response_class=IterableTransferResponse)\n\u001b[0m\u001b[1;32m    921\u001b[0m \u001b[0;34m\u001b[0m\u001b[0m\n\u001b[1;32m    922\u001b[0m     \u001b[0;32mdef\u001b[0m \u001b[0moperation_mkdir\u001b[0m\u001b[0;34m(\u001b[0m\u001b[0mself\u001b[0m\u001b[0;34m,\u001b[0m \u001b[0mendpoint_id\u001b[0m\u001b[0;34m,\u001b[0m \u001b[0mpath\u001b[0m\u001b[0;34m,\u001b[0m \u001b[0;34m**\u001b[0m\u001b[0mparams\u001b[0m\u001b[0;34m)\u001b[0m\u001b[0;34m:\u001b[0m\u001b[0;34m\u001b[0m\u001b[0m\n",
      "\u001b[0;32m/anaconda/lib/python3.6/site-packages/globus_sdk/base.py\u001b[0m in \u001b[0;36mget\u001b[0;34m(self, path, params, headers, response_class, retry_401)\u001b[0m\n\u001b[1;32m    151\u001b[0m         return self._request(\"GET\", path, params=params, headers=headers,\n\u001b[1;32m    152\u001b[0m                              \u001b[0mresponse_class\u001b[0m\u001b[0;34m=\u001b[0m\u001b[0mresponse_class\u001b[0m\u001b[0;34m,\u001b[0m\u001b[0;34m\u001b[0m\u001b[0m\n\u001b[0;32m--> 153\u001b[0;31m                              retry_401=retry_401)\n\u001b[0m\u001b[1;32m    154\u001b[0m \u001b[0;34m\u001b[0m\u001b[0m\n\u001b[1;32m    155\u001b[0m     def post(self, path, json_body=None, params=None, headers=None,\n",
      "\u001b[0;32m/anaconda/lib/python3.6/site-packages/globus_sdk/base.py\u001b[0m in \u001b[0;36m_request\u001b[0;34m(self, method, path, params, headers, json_body, text_body, response_class, retry_401)\u001b[0m\n\u001b[1;32m    359\u001b[0m         self.logger.debug('request completed with (error) response code: {}'\n\u001b[1;32m    360\u001b[0m                           .format(r.status_code))\n\u001b[0;32m--> 361\u001b[0;31m         \u001b[0;32mraise\u001b[0m \u001b[0mself\u001b[0m\u001b[0;34m.\u001b[0m\u001b[0merror_class\u001b[0m\u001b[0;34m(\u001b[0m\u001b[0mr\u001b[0m\u001b[0;34m)\u001b[0m\u001b[0;34m\u001b[0m\u001b[0m\n\u001b[0m\u001b[1;32m    362\u001b[0m \u001b[0;34m\u001b[0m\u001b[0m\n\u001b[1;32m    363\u001b[0m \u001b[0;34m\u001b[0m\u001b[0m\n",
      "\u001b[0;31mTransferAPIError\u001b[0m: (400, 'ClientError.ActivationRequired', \"The endpoint 'eed5aba8-6bc9-11e7-a9c6-22000bf2d287' is not activated\", '1Iw42oXtm')"
     ]
    }
   ],
   "source": [
    "blueTeamDirs = []\n",
    "for response in tc.operation_ls(blueTeamEndpointID):\n",
    "    print('Name: {}, type: {}'.format(response['name'], response['type']))\n",
    "    if response['type'] == 'dir':\n",
    "        blueTeamDirs.append(response)"
   ]
  },
  {
   "cell_type": "markdown",
   "metadata": {},
   "source": [
    "## Check if root transfer path exist otherwise create it"
   ]
  },
  {
   "cell_type": "code",
   "execution_count": 5,
   "metadata": {},
   "outputs": [
    {
     "name": "stdout",
     "output_type": "stream",
     "text": [
      "Root transfer path already exists\n"
     ]
    }
   ],
   "source": [
    "newRootPath = \"./{}\".format(rootTransferFolderName)\n",
    "rootPathExists = False\n",
    "for folder in blueTeamDirs:\n",
    "    if folder['name'] == rootTransferFolderName:\n",
    "        rootPathExists = True\n",
    "if not rootPathExists: #Create an new dir in the blue team endpoint\n",
    "    mkDirResponse = tc.operation_mkdir(blueTeamEndpointID, path=newRootPath)\n",
    "    print mkDirResponse\n",
    "else:\n",
    "    print 'Root transfer path already exists'"
   ]
  },
  {
   "cell_type": "markdown",
   "metadata": {},
   "source": [
    "## Create new dir in the root transfer dir with dt stamp"
   ]
  },
  {
   "cell_type": "code",
   "execution_count": 6,
   "metadata": {},
   "outputs": [
    {
     "name": "stdout",
     "output_type": "stream",
     "text": [
      "{\n",
      "  \"message\": \"The directory was created successfully\", \n",
      "  \"code\": \"DirectoryCreated\", \n",
      "  \"resource\": \"/operation/endpoint/eed5aba8-6bc9-11e7-a9c6-22000bf2d287/mkdir\", \n",
      "  \"DATA_TYPE\": \"mkdir_result\", \n",
      "  \"request_id\": \"kTJP00yrm\"\n",
      "}\n"
     ]
    }
   ],
   "source": [
    "from time import gmtime, strftime\n",
    "dtStamp = strftime(\"%Y-%m-%d %H:%M:%S\", gmtime())\n",
    "newTransferFolderName = dtStamp.replace(' ','_')\n",
    "newFolderPath = '{}/{}'.format(newRootPath, newTransferFolderName)\n",
    "mkDirResponse = tc.operation_mkdir(blueTeamEndpointID, path=newFolderPath)\n",
    "print mkDirResponse"
   ]
  },
  {
   "cell_type": "markdown",
   "metadata": {},
   "source": [
    "## Transfer file to new folder"
   ]
  },
  {
   "cell_type": "code",
   "execution_count": 7,
   "metadata": {},
   "outputs": [
    {
     "name": "stdout",
     "output_type": "stream",
     "text": [
      "{\n",
      "  \"submission_id\": \"c0a7e2a7-6c95-11e7-a9cb-22000bf2d287\", \n",
      "  \"code\": \"Accepted\", \n",
      "  \"resource\": \"/transfer\", \n",
      "  \"task_id\": \"c0a7e2a6-6c95-11e7-a9cb-22000bf2d287\", \n",
      "  \"DATA_TYPE\": \"transfer_result\", \n",
      "  \"request_id\": \"mTfUyuXlR\", \n",
      "  \"message\": \"The transfer has been accepted and a task has been created and queued for execution\", \n",
      "  \"task_link\": {\n",
      "    \"href\": \"task/c0a7e2a6-6c95-11e7-a9cb-22000bf2d287?format=json\", \n",
      "    \"resource\": \"task\", \n",
      "    \"rel\": \"related\", \n",
      "    \"DATA_TYPE\": \"link\", \n",
      "    \"title\": \"related task\"\n",
      "  }\n",
      "}\n"
     ]
    }
   ],
   "source": [
    "transferData = globus_sdk.TransferData(tc, redTeamEndpointID,\n",
    "                                blueTeamEndpointID)\n",
    "transferedFilePath = '{}/{}'.format(newFolderPath, transferFile)\n",
    "transferData.add_item(transferFile, transferedFilePath)\n",
    "transfer_result = tc.submit_transfer(transferData)\n",
    "print transfer_result"
   ]
  },
  {
   "cell_type": "markdown",
   "metadata": {},
   "source": [
    "## Example - delete dir in endpoint"
   ]
  },
  {
   "cell_type": "code",
   "execution_count": null,
   "metadata": {},
   "outputs": [],
   "source": [
    "deleteData = globus_sdk.DeleteData(tc, blueTeamEndpointID, recursive=True)\n",
    "deleteData.add_item(\"Red_Team_Stuff\")\n",
    "delete_result = tc.submit_delete(deleteData)\n",
    "print(\"task_id =\", delete_result[\"task_id\"])"
   ]
  },
  {
   "cell_type": "markdown",
   "metadata": {},
   "source": [
    "## Example - text search on Globus endpoints"
   ]
  },
  {
   "cell_type": "code",
   "execution_count": null,
   "metadata": {},
   "outputs": [],
   "source": [
    "for ep in tc.endpoint_search('Jan'):\n",
    "    print(ep['display_name'])"
   ]
  },
  {
   "cell_type": "markdown",
   "metadata": {},
   "source": [
    "## Example - Rename the new dir"
   ]
  },
  {
   "cell_type": "code",
   "execution_count": null,
   "metadata": {},
   "outputs": [],
   "source": [
    "renamePathResponse = tc.operation_rename(blueTeamEndpointID, oldpath=\"./Jan's Folder\", newpath=\"./Red_Team_Stuff\")\n",
    "print renamePathResponse"
   ]
  }
 ],
 "metadata": {
  "kernelspec": {
   "display_name": "Python 3",
   "language": "python",
   "name": "python3"
  },
  "language_info": {
   "codemirror_mode": {
    "name": "ipython",
    "version": 3
   },
   "file_extension": ".py",
   "mimetype": "text/x-python",
   "name": "python",
   "nbconvert_exporter": "python",
   "pygments_lexer": "ipython3",
   "version": "3.6.1"
  }
 },
 "nbformat": 4,
 "nbformat_minor": 2
}
