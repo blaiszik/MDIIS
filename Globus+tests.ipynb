{
 "cells": [
  {
   "cell_type": "markdown",
   "metadata": {},
   "source": [
    "# Testing the Globus API"
   ]
  },
  {
   "cell_type": "markdown",
   "metadata": {},
   "source": [
    "## Define variables"
   ]
  },
  {
   "cell_type": "code",
   "execution_count": 1,
   "metadata": {
    "collapsed": true
   },
   "outputs": [],
   "source": [
    "CLIENT_ID = 'e8954f4a-23c6-4ffc-8eaa-747fda1f9351'\n",
    "blueTeamEndpointID = 'eed5aba8-6bc9-11e7-a9c6-22000bf2d287'\n",
    "redTeamEndpointID = '3435b504-6bc4-11e7-a9c6-22000bf2d287'\n",
    "rootTransferFolderName = \"Red_Team_Stuff\"\n",
    "transferFile = 'Transparent Aluminum.zip'"
   ]
  },
  {
   "cell_type": "markdown",
   "metadata": {},
   "source": [
    "## Import Globus,  connect to app and start TransferClient"
   ]
  },
  {
   "cell_type": "code",
   "execution_count": 2,
   "metadata": {
    "collapsed": false
   },
   "outputs": [
    {
     "name": "stdout",
     "output_type": "stream",
     "text": [
      "Please go to this URL and login: https://auth.globus.org/v2/oauth2/authorize?code_challenge=XjCbDGIMuwIlZKjBHwzOTfOE97fU4iaXveCLmAYJtSw&state=_default&redirect_uri=https%3A%2F%2Fauth.globus.org%2Fv2%2Fweb%2Fauth-code&response_type=code&client_id=e8954f4a-23c6-4ffc-8eaa-747fda1f9351&scope=openid+profile+email+urn%3Aglobus%3Aauth%3Ascope%3Atransfer.api.globus.org%3Aall&code_challenge_method=S256&access_type=offline\n",
      "Please enter the code here: H0XFZrPk81mX4BoGCt4HoacUVnJGpG\n"
     ]
    }
   ],
   "source": [
    "import globus_sdk\n",
    "\n",
    "client = globus_sdk.NativeAppAuthClient(CLIENT_ID)\n",
    "client.oauth2_start_flow(refresh_tokens=True)\n",
    "\n",
    "print('Please go to this URL and login: {0}'\n",
    "      .format(client.oauth2_get_authorize_url()))\n",
    "\n",
    "get_input = getattr(__builtins__, 'raw_input', input)\n",
    "auth_code = get_input('Please enter the code here: ').strip()\n",
    "token_response = client.oauth2_exchange_code_for_tokens(auth_code)\n",
    "\n",
    "# let's get stuff for the Globus Transfer service\n",
    "globus_transfer_data = token_response.by_resource_server['transfer.api.globus.org']\n",
    "# the refresh token and access token, often abbr. as RT and AT\n",
    "transfer_rt = globus_transfer_data['refresh_token']\n",
    "transfer_at = globus_transfer_data['access_token']\n",
    "expires_at_s = globus_transfer_data['expires_at_seconds']\n",
    "\n",
    "authorizer = globus_sdk.RefreshTokenAuthorizer(\n",
    "    transfer_rt, client, access_token=transfer_at, expires_at=expires_at_s)\n",
    "\n",
    "# and try using `tc` to make TransferClient calls.\n",
    "tc = globus_sdk.TransferClient(authorizer=authorizer)"
   ]
  },
  {
   "cell_type": "markdown",
   "metadata": {},
   "source": [
    "## Get a response from the endpoint"
   ]
  },
  {
   "cell_type": "code",
   "execution_count": 3,
   "metadata": {
    "collapsed": false
   },
   "outputs": [
    {
     "name": "stdout",
     "output_type": "stream",
     "text": [
      "Endpoint name: u_cdtg35asyreyhnmqmhbzl5jab4#mdi_summit_blue_team\n"
     ]
    }
   ],
   "source": [
    "endpoint = tc.get_endpoint(blueTeamEndpointID)\n",
    "print \"Endpoint name: {}\".format(endpoint[\"canonical_name\"])"
   ]
  },
  {
   "cell_type": "markdown",
   "metadata": {},
   "source": [
    "## List dirs and files in the Blue Team endpoint"
   ]
  },
  {
   "cell_type": "code",
   "execution_count": 4,
   "metadata": {
    "collapsed": false
   },
   "outputs": [
    {
     "name": "stdout",
     "output_type": "stream",
     "text": [
      "Name: .cache, type: dir\n",
      "Name: Junk Folder, type: dir\n",
      "Name: Red_Team_Stuff, type: dir\n",
      "Name: .bash_logout, type: file\n",
      "Name: .bashrc, type: file\n",
      "Name: .profile, type: file\n",
      "Name: 7707_photo.png, type: file\n",
      "Name: 7887_photo.png, type: file\n",
      "Name: 7997_photo.png, type: file\n",
      "Name: globus-connect-server-repo_latest_all.deb, type: file\n",
      "Name: helpme.txt, type: file\n",
      "Name: small_text.txt, type: file\n"
     ]
    }
   ],
   "source": [
    "blueTeamDirs = []\n",
    "for response in tc.operation_ls(blueTeamEndpointID):\n",
    "    print 'Name: {}, type: {}'.format(response['name'], response['type'])\n",
    "    if response['type'] == 'dir':\n",
    "        blueTeamDirs.append(response)"
   ]
  },
  {
   "cell_type": "markdown",
   "metadata": {},
   "source": [
    "## Check if root transfer path exist otherwise create it"
   ]
  },
  {
   "cell_type": "code",
   "execution_count": 5,
   "metadata": {
    "collapsed": false
   },
   "outputs": [
    {
     "name": "stdout",
     "output_type": "stream",
     "text": [
      "Root transfer path already exists\n"
     ]
    }
   ],
   "source": [
    "newRootPath = \"./{}\".format(rootTransferFolderName)\n",
    "rootPathExists = False\n",
    "for folder in blueTeamDirs:\n",
    "    if folder['name'] == rootTransferFolderName:\n",
    "        rootPathExists = True\n",
    "if not rootPathExists: #Create an new dir in the blue team endpoint\n",
    "    mkDirResponse = tc.operation_mkdir(blueTeamEndpointID, path=newRootPath)\n",
    "    print mkDirResponse\n",
    "else:\n",
    "    print 'Root transfer path already exists'"
   ]
  },
  {
   "cell_type": "markdown",
   "metadata": {},
   "source": [
    "## Create new dir in the root transfer dir with dt stamp"
   ]
  },
  {
   "cell_type": "code",
   "execution_count": 6,
   "metadata": {
    "collapsed": false
   },
   "outputs": [
    {
     "name": "stdout",
     "output_type": "stream",
     "text": [
      "{\n",
      "  \"message\": \"The directory was created successfully\", \n",
      "  \"code\": \"DirectoryCreated\", \n",
      "  \"resource\": \"/operation/endpoint/eed5aba8-6bc9-11e7-a9c6-22000bf2d287/mkdir\", \n",
      "  \"DATA_TYPE\": \"mkdir_result\", \n",
      "  \"request_id\": \"kTJP00yrm\"\n",
      "}\n"
     ]
    }
   ],
   "source": [
    "from time import gmtime, strftime\n",
    "dtStamp = strftime(\"%Y-%m-%d %H:%M:%S\", gmtime())\n",
    "newTransferFolderName = dtStamp.replace(' ','_')\n",
    "newFolderPath = '{}/{}'.format(newRootPath, newTransferFolderName)\n",
    "mkDirResponse = tc.operation_mkdir(blueTeamEndpointID, path=newFolderPath)\n",
    "print mkDirResponse"
   ]
  },
  {
   "cell_type": "markdown",
   "metadata": {},
   "source": [
    "## Transfer file to new folder"
   ]
  },
  {
   "cell_type": "code",
   "execution_count": 7,
   "metadata": {
    "collapsed": false
   },
   "outputs": [
    {
     "name": "stdout",
     "output_type": "stream",
     "text": [
      "{\n",
      "  \"submission_id\": \"c0a7e2a7-6c95-11e7-a9cb-22000bf2d287\", \n",
      "  \"code\": \"Accepted\", \n",
      "  \"resource\": \"/transfer\", \n",
      "  \"task_id\": \"c0a7e2a6-6c95-11e7-a9cb-22000bf2d287\", \n",
      "  \"DATA_TYPE\": \"transfer_result\", \n",
      "  \"request_id\": \"mTfUyuXlR\", \n",
      "  \"message\": \"The transfer has been accepted and a task has been created and queued for execution\", \n",
      "  \"task_link\": {\n",
      "    \"href\": \"task/c0a7e2a6-6c95-11e7-a9cb-22000bf2d287?format=json\", \n",
      "    \"resource\": \"task\", \n",
      "    \"rel\": \"related\", \n",
      "    \"DATA_TYPE\": \"link\", \n",
      "    \"title\": \"related task\"\n",
      "  }\n",
      "}\n"
     ]
    }
   ],
   "source": [
    "transferData = globus_sdk.TransferData(tc, redTeamEndpointID,\n",
    "                                blueTeamEndpointID)\n",
    "transferedFilePath = '{}/{}'.format(newFolderPath, transferFile)\n",
    "transferData.add_item(transferFile, transferedFilePath)\n",
    "transfer_result = tc.submit_transfer(transferData)\n",
    "print transfer_result"
   ]
  },
  {
   "cell_type": "markdown",
   "metadata": {},
   "source": [
    "## Example - delete dir in endpoint"
   ]
  },
  {
   "cell_type": "code",
   "execution_count": null,
   "metadata": {
    "collapsed": false
   },
   "outputs": [],
   "source": [
    "deleteData = globus_sdk.DeleteData(tc, blueTeamEndpointID, recursive=True)\n",
    "deleteData.add_item(\"Red_Team_Stuff\")\n",
    "delete_result = tc.submit_delete(deleteData)\n",
    "print(\"task_id =\", delete_result[\"task_id\"])"
   ]
  },
  {
   "cell_type": "markdown",
   "metadata": {},
   "source": [
    "## Example - text search on Globus endpoints"
   ]
  },
  {
   "cell_type": "code",
   "execution_count": null,
   "metadata": {
    "collapsed": false
   },
   "outputs": [],
   "source": [
    "for ep in tc.endpoint_search('Jan'):\n",
    "    print(ep['display_name'])"
   ]
  },
  {
   "cell_type": "markdown",
   "metadata": {},
   "source": [
    "## Example - Rename the new dir"
   ]
  },
  {
   "cell_type": "code",
   "execution_count": null,
   "metadata": {
    "collapsed": false
   },
   "outputs": [],
   "source": [
    "renamePathResponse = tc.operation_rename(blueTeamEndpointID, oldpath=\"./Jan's Folder\", newpath=\"./Red_Team_Stuff\")\n",
    "print renamePathResponse"
   ]
  }
 ],
 "metadata": {
  "kernelspec": {
   "display_name": "Python 2",
   "language": "python",
   "name": "python2"
  },
  "language_info": {
   "codemirror_mode": {
    "name": "ipython",
    "version": 2
   },
   "file_extension": ".py",
   "mimetype": "text/x-python",
   "name": "python",
   "nbconvert_exporter": "python",
   "pygments_lexer": "ipython2",
   "version": "2.7.13"
  }
 },
 "nbformat": 4,
 "nbformat_minor": 2
}
