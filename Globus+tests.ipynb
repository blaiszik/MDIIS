{
 "cells": [
  {
   "cell_type": "markdown",
   "metadata": {},
   "source": [
    "# Testing the Globus API"
   ]
  },
  {
   "cell_type": "markdown",
   "metadata": {},
   "source": [
    "## Define variables"
   ]
  },
  {
   "cell_type": "code",
   "execution_count": 3,
   "metadata": {
    "collapsed": true
   },
   "outputs": [],
   "source": [
    "CLIENT_ID = 'e8954f4a-23c6-4ffc-8eaa-747fda1f9351'\n",
    "blueTeamEndpointID = 'eed5aba8-6bc9-11e7-a9c6-22000bf2d287'\n",
    "redTeamEndpointID = '3435b504-6bc4-11e7-a9c6-22000bf2d287'\n",
    "benID = 'c8ee7e5c-6d04-11e5-ba46-22000b92c6ec'\n",
    "rootTransferFolderName = \"Red_Team_Stuff\"\n",
    "transferFile = 'Transparent Aluminum.zip'\n",
    "token_path = \"./.tokens.json\""
   ]
  },
  {
   "cell_type": "markdown",
   "metadata": {},
   "source": [
    "## Import Globus,  connect to app and start TransferClient"
   ]
  },
  {
   "cell_type": "code",
   "execution_count": 14,
   "metadata": {},
   "outputs": [],
   "source": [
    "import os\n",
    "import json\n",
    "import globus_sdk\n",
    "from __future__ import print_function\n",
    "\n",
    "client = globus_sdk.NativeAppAuthClient(CLIENT_ID)\n",
    "\n",
    "if os.path.exists(token_path):\n",
    "    with open(token_path) as tok_file:\n",
    "        tokens = json.load(tok_file)\n",
    "else:\n",
    "    client.oauth2_start_flow(refresh_tokens=True)\n",
    "\n",
    "    print('Please go to this URL and login: {0}'\n",
    "          .format(client.oauth2_get_authorize_url()))\n",
    "\n",
    "    get_input = getattr(__builtins__, 'raw_input', input)\n",
    "    auth_code = get_input('Please enter the code here: ').strip()\n",
    "    token_response = client.oauth2_exchange_code_for_tokens(auth_code)\n",
    "\n",
    "    # let's get stuff for the Globus Transfer service\n",
    "    globus_transfer_data = token_response.by_resource_server['transfer.api.globus.org']\n",
    "    # the refresh token and access token, often abbr. as RT and AT\n",
    "    #    transfer_rt = globus_transfer_data['refresh_token']\n",
    "    #    transfer_at = globus_transfer_data['access_token']\n",
    "    #    expires_at_s = globus_transfer_data['expires_at_seconds']\n",
    "    \n",
    "    with open(token_path, \"w\") as tok_file:\n",
    "        json.dump(globus_transfer_data, tok_file)\n",
    "    tokens = globus_transfer_data\n",
    "\n",
    "authorizer = globus_sdk.RefreshTokenAuthorizer(\n",
    "    tokens[\"refresh_token\"], client, access_token=tokens[\"access_token\"], expires_at=tokens[\"expires_at_seconds\"])\n",
    "\n",
    "# and try using `tc` to make TransferClient calls.\n",
    "tc = globus_sdk.TransferClient(authorizer=authorizer)"
   ]
  },
  {
   "cell_type": "markdown",
   "metadata": {},
   "source": [
    "## Get a response from the endpoint"
   ]
  },
  {
   "cell_type": "code",
   "execution_count": 15,
   "metadata": {},
   "outputs": [
    {
     "name": "stdout",
     "output_type": "stream",
     "text": [
      "Endpoint name: blaiszik#macbookpro\n"
     ]
    }
   ],
   "source": [
    "endpoint = tc.get_endpoint(benID)\n",
    "print(\"Endpoint name: {}\".format(endpoint[\"canonical_name\"]))"
   ]
  },
  {
   "cell_type": "code",
   "execution_count": 17,
   "metadata": {},
   "outputs": [],
   "source": [
    "r = tc.endpoint_autoactivate(benID, if_expires_in=3600)\n",
    "while (r[\"code\"] == \"AutoActivationFailed\"):\n",
    "    print(\"Endpoint requires manual activation, please open \"\n",
    "           \"the following URL in a browser to activate the \"\n",
    "           \"endpoint:\")\n",
    "    print(\"https://www.globus.org/app/endpoints/%s/activate\"\n",
    "           % ep_id)\n",
    "     # For python 2.X, use raw_input() instead\n",
    "    input(\"Press ENTER after activating the endpoint:\")\n",
    "    r = tc.endpoint_autoactivate(ep_id, if_expires_in=3600)"
   ]
  },
  {
   "cell_type": "code",
   "execution_count": 18,
   "metadata": {},
   "outputs": [
    {
     "data": {
      "text/plain": [
       "TransferResponse({'DATA': [], 'DATA_TYPE': 'activation_result', 'code': 'AutoActivated.GlobusOnlineCredential', 'endpoint': 'blaiszik#macbookpro', 'expire_time': '2017-07-20 15:59:56+00:00', 'expires_in': -1, 'length': 0, 'message': 'Endpoint activated successfully using Globus Online credentials.', 'oauth_server': None, 'request_id': 'icnlIcrLo', 'resource': '/endpoint/c8ee7e5c-6d04-11e5-ba46-22000b92c6ec/autoactivate', 'subject': '/C=US/O=Globus Consortium/OU=Globus Connect User/CN=blaiszik'})"
      ]
     },
     "execution_count": 18,
     "metadata": {},
     "output_type": "execute_result"
    }
   ],
   "source": [
    "r"
   ]
  },
  {
   "cell_type": "markdown",
   "metadata": {},
   "source": [
    "## List dirs and files in the Blue Team endpoint"
   ]
  },
  {
   "cell_type": "code",
   "execution_count": 21,
   "metadata": {},
   "outputs": [
    {
     "name": "stdout",
     "output_type": "stream",
     "text": [
      "Name: Desktop, type: dir\n"
     ]
    }
   ],
   "source": [
    "blueTeamDirs = []\n",
    "for response in tc.operation_ls(benID):\n",
    "    print('Name: {}, type: {}'.format(response['name'], response['type']))\n",
    "    if response['type'] == 'dir':\n",
    "        blueTeamDirs.append(response)"
   ]
  },
  {
   "cell_type": "markdown",
   "metadata": {},
   "source": [
    "## Check if root transfer path exist otherwise create it"
   ]
  },
  {
   "cell_type": "code",
   "execution_count": 5,
   "metadata": {},
   "outputs": [
    {
     "name": "stdout",
     "output_type": "stream",
     "text": [
      "Root transfer path already exists\n"
     ]
    }
   ],
   "source": [
    "newRootPath = \"./{}\".format(rootTransferFolderName)\n",
    "rootPathExists = False\n",
    "for folder in blueTeamDirs:\n",
    "    if folder['name'] == rootTransferFolderName:\n",
    "        rootPathExists = True\n",
    "if not rootPathExists: #Create an new dir in the blue team endpoint\n",
    "    mkDirResponse = tc.operation_mkdir(blueTeamEndpointID, path=newRootPath)\n",
    "    print mkDirResponse\n",
    "else:\n",
    "    print 'Root transfer path already exists'"
   ]
  },
  {
   "cell_type": "markdown",
   "metadata": {},
   "source": [
    "## Create new dir in the root transfer dir with dt stamp"
   ]
  },
  {
   "cell_type": "code",
   "execution_count": 6,
   "metadata": {},
   "outputs": [
    {
     "name": "stdout",
     "output_type": "stream",
     "text": [
      "{\n",
      "  \"message\": \"The directory was created successfully\", \n",
      "  \"code\": \"DirectoryCreated\", \n",
      "  \"resource\": \"/operation/endpoint/eed5aba8-6bc9-11e7-a9c6-22000bf2d287/mkdir\", \n",
      "  \"DATA_TYPE\": \"mkdir_result\", \n",
      "  \"request_id\": \"kTJP00yrm\"\n",
      "}\n"
     ]
    }
   ],
   "source": [
    "from time import gmtime, strftime\n",
    "dtStamp = strftime(\"%Y-%m-%d %H:%M:%S\", gmtime())\n",
    "newTransferFolderName = dtStamp.replace(' ','_')\n",
    "newFolderPath = '{}/{}'.format(newRootPath, newTransferFolderName)\n",
    "mkDirResponse = tc.operation_mkdir(blueTeamEndpointID, path=newFolderPath)\n",
    "print mkDirResponse"
   ]
  },
  {
   "cell_type": "markdown",
   "metadata": {},
   "source": [
    "## Transfer file to new folder"
   ]
  },
  {
   "cell_type": "code",
   "execution_count": 7,
   "metadata": {},
   "outputs": [
    {
     "name": "stdout",
     "output_type": "stream",
     "text": [
      "{\n",
      "  \"submission_id\": \"c0a7e2a7-6c95-11e7-a9cb-22000bf2d287\", \n",
      "  \"code\": \"Accepted\", \n",
      "  \"resource\": \"/transfer\", \n",
      "  \"task_id\": \"c0a7e2a6-6c95-11e7-a9cb-22000bf2d287\", \n",
      "  \"DATA_TYPE\": \"transfer_result\", \n",
      "  \"request_id\": \"mTfUyuXlR\", \n",
      "  \"message\": \"The transfer has been accepted and a task has been created and queued for execution\", \n",
      "  \"task_link\": {\n",
      "    \"href\": \"task/c0a7e2a6-6c95-11e7-a9cb-22000bf2d287?format=json\", \n",
      "    \"resource\": \"task\", \n",
      "    \"rel\": \"related\", \n",
      "    \"DATA_TYPE\": \"link\", \n",
      "    \"title\": \"related task\"\n",
      "  }\n",
      "}\n"
     ]
    }
   ],
   "source": [
    "transferData = globus_sdk.TransferData(tc, redTeamEndpointID,\n",
    "                                blueTeamEndpointID)\n",
    "transferedFilePath = '{}/{}'.format(newFolderPath, transferFile)\n",
    "transferData.add_item(transferFile, transferedFilePath)\n",
    "transfer_result = tc.submit_transfer(transferData)\n",
    "print transfer_result"
   ]
  },
  {
   "cell_type": "markdown",
   "metadata": {},
   "source": [
    "## Example - delete dir in endpoint"
   ]
  },
  {
   "cell_type": "code",
   "execution_count": null,
   "metadata": {},
   "outputs": [],
   "source": [
    "deleteData = globus_sdk.DeleteData(tc, blueTeamEndpointID, recursive=True)\n",
    "deleteData.add_item(\"Red_Team_Stuff\")\n",
    "delete_result = tc.submit_delete(deleteData)\n",
    "print(\"task_id =\", delete_result[\"task_id\"])"
   ]
  },
  {
   "cell_type": "markdown",
   "metadata": {},
   "source": [
    "## Example - text search on Globus endpoints"
   ]
  },
  {
   "cell_type": "code",
   "execution_count": null,
   "metadata": {},
   "outputs": [],
   "source": [
    "for ep in tc.endpoint_search('Jan'):\n",
    "    print(ep['display_name'])"
   ]
  },
  {
   "cell_type": "markdown",
   "metadata": {},
   "source": [
    "## Example - Rename the new dir"
   ]
  },
  {
   "cell_type": "code",
   "execution_count": null,
   "metadata": {},
   "outputs": [],
   "source": [
    "renamePathResponse = tc.operation_rename(blueTeamEndpointID, oldpath=\"./Jan's Folder\", newpath=\"./Red_Team_Stuff\")\n",
    "print renamePathResponse"
   ]
  }
 ],
 "metadata": {
  "kernelspec": {
   "display_name": "Python 3",
   "language": "python",
   "name": "python3"
  },
  "language_info": {
   "codemirror_mode": {
    "name": "ipython",
    "version": 3
   },
   "file_extension": ".py",
   "mimetype": "text/x-python",
   "name": "python",
   "nbconvert_exporter": "python",
   "pygments_lexer": "ipython3",
   "version": "3.6.1"
  }
 },
 "nbformat": 4,
 "nbformat_minor": 2
}
